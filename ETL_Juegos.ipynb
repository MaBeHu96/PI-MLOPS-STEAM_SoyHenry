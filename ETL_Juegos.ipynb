{
 "cells": [
  {
   "cell_type": "markdown",
   "metadata": {},
   "source": [
    "# PI_MLOPS."
   ]
  },
  {
   "cell_type": "markdown",
   "metadata": {},
   "source": [
    " comenzando con este proyecto primero me dispongo a importar las librerias que voy a utilizar."
   ]
  },
  {
   "cell_type": "code",
   "execution_count": 149,
   "metadata": {},
   "outputs": [],
   "source": [
    "import pandas as pd\n",
    "import ast"
   ]
  },
  {
   "cell_type": "markdown",
   "metadata": {},
   "source": [
    "me doy cuenta que el archivo que me entregaron es  un archivo .json, entonces realizo una iteracion en cada una de las filas para meter la informacion de cada una de las filas en un a lista vacia que llamo 'rows' para luego convertir esa lista en un Data Frame de pandas que me servira para visulizar los datos, para mas adelante no tener problemas con leer el archivo .json tome la decisión de crear una archivo .csv que es exactamente igual al inicial que usare de aqui en adelante "
   ]
  },
  {
   "cell_type": "code",
   "execution_count": 150,
   "metadata": {},
   "outputs": [],
   "source": [
    "rows=[]\n",
    "with open(\"Data/steam_games.json\") as f:\n",
    "    for line in f.readlines():\n",
    "        rows.append(ast.literal_eval(line))\n",
    "df_games = pd.DataFrame(rows)"
   ]
  },
  {
   "cell_type": "code",
   "execution_count": 151,
   "metadata": {},
   "outputs": [],
   "source": [
    "df_games.to_csv('steam_games.csv', index=False)"
   ]
  },
  {
   "cell_type": "code",
   "execution_count": 152,
   "metadata": {},
   "outputs": [
    {
     "data": {
      "text/html": [
       "<div>\n",
       "<style scoped>\n",
       "    .dataframe tbody tr th:only-of-type {\n",
       "        vertical-align: middle;\n",
       "    }\n",
       "\n",
       "    .dataframe tbody tr th {\n",
       "        vertical-align: top;\n",
       "    }\n",
       "\n",
       "    .dataframe thead th {\n",
       "        text-align: right;\n",
       "    }\n",
       "</style>\n",
       "<table border=\"1\" class=\"dataframe\">\n",
       "  <thead>\n",
       "    <tr style=\"text-align: right;\">\n",
       "      <th></th>\n",
       "      <th>publisher</th>\n",
       "      <th>genres</th>\n",
       "      <th>app_name</th>\n",
       "      <th>title</th>\n",
       "      <th>url</th>\n",
       "      <th>release_date</th>\n",
       "      <th>tags</th>\n",
       "      <th>discount_price</th>\n",
       "      <th>reviews_url</th>\n",
       "      <th>specs</th>\n",
       "      <th>price</th>\n",
       "      <th>early_access</th>\n",
       "      <th>id</th>\n",
       "      <th>developer</th>\n",
       "      <th>sentiment</th>\n",
       "      <th>metascore</th>\n",
       "    </tr>\n",
       "  </thead>\n",
       "  <tbody>\n",
       "    <tr>\n",
       "      <th>0</th>\n",
       "      <td>Kotoshiro</td>\n",
       "      <td>[Action, Casual, Indie, Simulation, Strategy]</td>\n",
       "      <td>Lost Summoner Kitty</td>\n",
       "      <td>Lost Summoner Kitty</td>\n",
       "      <td>http://store.steampowered.com/app/761140/Lost_...</td>\n",
       "      <td>2018-01-04</td>\n",
       "      <td>[Strategy, Action, Indie, Casual, Simulation]</td>\n",
       "      <td>4.49</td>\n",
       "      <td>http://steamcommunity.com/app/761140/reviews/?...</td>\n",
       "      <td>[Single-player]</td>\n",
       "      <td>4.99</td>\n",
       "      <td>False</td>\n",
       "      <td>761140</td>\n",
       "      <td>Kotoshiro</td>\n",
       "      <td>NaN</td>\n",
       "      <td>NaN</td>\n",
       "    </tr>\n",
       "  </tbody>\n",
       "</table>\n",
       "</div>"
      ],
      "text/plain": [
       "   publisher                                         genres  \\\n",
       "0  Kotoshiro  [Action, Casual, Indie, Simulation, Strategy]   \n",
       "\n",
       "              app_name                title  \\\n",
       "0  Lost Summoner Kitty  Lost Summoner Kitty   \n",
       "\n",
       "                                                 url release_date  \\\n",
       "0  http://store.steampowered.com/app/761140/Lost_...   2018-01-04   \n",
       "\n",
       "                                            tags  discount_price  \\\n",
       "0  [Strategy, Action, Indie, Casual, Simulation]            4.49   \n",
       "\n",
       "                                         reviews_url            specs price  \\\n",
       "0  http://steamcommunity.com/app/761140/reviews/?...  [Single-player]  4.99   \n",
       "\n",
       "   early_access      id  developer sentiment metascore  \n",
       "0         False  761140  Kotoshiro       NaN       NaN  "
      ]
     },
     "execution_count": 152,
     "metadata": {},
     "output_type": "execute_result"
    }
   ],
   "source": [
    "df_games.head(1)"
   ]
  },
  {
   "cell_type": "code",
   "execution_count": 153,
   "metadata": {},
   "outputs": [
    {
     "data": {
      "text/plain": [
       "publisher          8052\n",
       "genres             3283\n",
       "app_name              2\n",
       "title              2050\n",
       "url                   0\n",
       "release_date       2067\n",
       "tags                163\n",
       "discount_price    31910\n",
       "reviews_url           2\n",
       "specs               670\n",
       "price              1377\n",
       "early_access          0\n",
       "id                    2\n",
       "developer          3299\n",
       "sentiment          7182\n",
       "metascore         29458\n",
       "dtype: int64"
      ]
     },
     "execution_count": 153,
     "metadata": {},
     "output_type": "execute_result"
    }
   ],
   "source": [
    "df_games.isna().sum()"
   ]
  },
  {
   "cell_type": "markdown",
   "metadata": {},
   "source": [
    "me doy cuenta que existen muchos valores faltantes en la gran mayoria de las columnas  "
   ]
  },
  {
   "cell_type": "code",
   "execution_count": 154,
   "metadata": {},
   "outputs": [
    {
     "data": {
      "text/html": [
       "<div>\n",
       "<style scoped>\n",
       "    .dataframe tbody tr th:only-of-type {\n",
       "        vertical-align: middle;\n",
       "    }\n",
       "\n",
       "    .dataframe tbody tr th {\n",
       "        vertical-align: top;\n",
       "    }\n",
       "\n",
       "    .dataframe thead th {\n",
       "        text-align: right;\n",
       "    }\n",
       "</style>\n",
       "<table border=\"1\" class=\"dataframe\">\n",
       "  <thead>\n",
       "    <tr style=\"text-align: right;\">\n",
       "      <th></th>\n",
       "      <th>publisher</th>\n",
       "      <th>genres</th>\n",
       "      <th>app_name</th>\n",
       "      <th>title</th>\n",
       "      <th>url</th>\n",
       "      <th>release_date</th>\n",
       "      <th>tags</th>\n",
       "      <th>discount_price</th>\n",
       "      <th>reviews_url</th>\n",
       "      <th>specs</th>\n",
       "      <th>price</th>\n",
       "      <th>early_access</th>\n",
       "      <th>id</th>\n",
       "      <th>developer</th>\n",
       "      <th>sentiment</th>\n",
       "      <th>metascore</th>\n",
       "    </tr>\n",
       "  </thead>\n",
       "  <tbody>\n",
       "    <tr>\n",
       "      <th>74</th>\n",
       "      <td>NaN</td>\n",
       "      <td>NaN</td>\n",
       "      <td>NaN</td>\n",
       "      <td>NaN</td>\n",
       "      <td>http://store.steampowered.com/</td>\n",
       "      <td>NaN</td>\n",
       "      <td>NaN</td>\n",
       "      <td>14.99</td>\n",
       "      <td>NaN</td>\n",
       "      <td>NaN</td>\n",
       "      <td>19.99</td>\n",
       "      <td>False</td>\n",
       "      <td>NaN</td>\n",
       "      <td>NaN</td>\n",
       "      <td>NaN</td>\n",
       "      <td>NaN</td>\n",
       "    </tr>\n",
       "    <tr>\n",
       "      <th>2580</th>\n",
       "      <td>NaN</td>\n",
       "      <td>[Action, Indie]</td>\n",
       "      <td>NaN</td>\n",
       "      <td>NaN</td>\n",
       "      <td>http://store.steampowered.com/app/317160/_/</td>\n",
       "      <td>2014-08-26</td>\n",
       "      <td>[Action, Indie]</td>\n",
       "      <td>NaN</td>\n",
       "      <td>http://steamcommunity.com/app/317160/reviews/?...</td>\n",
       "      <td>[Single-player, Game demo]</td>\n",
       "      <td>NaN</td>\n",
       "      <td>False</td>\n",
       "      <td>317160</td>\n",
       "      <td>NaN</td>\n",
       "      <td>Positive</td>\n",
       "      <td>NaN</td>\n",
       "    </tr>\n",
       "  </tbody>\n",
       "</table>\n",
       "</div>"
      ],
      "text/plain": [
       "     publisher           genres app_name title  \\\n",
       "74         NaN              NaN      NaN   NaN   \n",
       "2580       NaN  [Action, Indie]      NaN   NaN   \n",
       "\n",
       "                                              url release_date  \\\n",
       "74                 http://store.steampowered.com/          NaN   \n",
       "2580  http://store.steampowered.com/app/317160/_/   2014-08-26   \n",
       "\n",
       "                 tags  discount_price  \\\n",
       "74                NaN           14.99   \n",
       "2580  [Action, Indie]             NaN   \n",
       "\n",
       "                                            reviews_url  \\\n",
       "74                                                  NaN   \n",
       "2580  http://steamcommunity.com/app/317160/reviews/?...   \n",
       "\n",
       "                           specs  price  early_access      id developer  \\\n",
       "74                           NaN  19.99         False     NaN       NaN   \n",
       "2580  [Single-player, Game demo]    NaN         False  317160       NaN   \n",
       "\n",
       "     sentiment metascore  \n",
       "74         NaN       NaN  \n",
       "2580  Positive       NaN  "
      ]
     },
     "execution_count": 154,
     "metadata": {},
     "output_type": "execute_result"
    }
   ],
   "source": [
    "df_games[df_games[\"app_name\"].isna()]"
   ]
  },
  {
   "cell_type": "code",
   "execution_count": 155,
   "metadata": {},
   "outputs": [
    {
     "data": {
      "text/html": [
       "<div>\n",
       "<style scoped>\n",
       "    .dataframe tbody tr th:only-of-type {\n",
       "        vertical-align: middle;\n",
       "    }\n",
       "\n",
       "    .dataframe tbody tr th {\n",
       "        vertical-align: top;\n",
       "    }\n",
       "\n",
       "    .dataframe thead th {\n",
       "        text-align: right;\n",
       "    }\n",
       "</style>\n",
       "<table border=\"1\" class=\"dataframe\">\n",
       "  <thead>\n",
       "    <tr style=\"text-align: right;\">\n",
       "      <th></th>\n",
       "      <th>publisher</th>\n",
       "      <th>genres</th>\n",
       "      <th>app_name</th>\n",
       "      <th>title</th>\n",
       "      <th>url</th>\n",
       "      <th>release_date</th>\n",
       "      <th>tags</th>\n",
       "      <th>discount_price</th>\n",
       "      <th>reviews_url</th>\n",
       "      <th>specs</th>\n",
       "      <th>price</th>\n",
       "      <th>early_access</th>\n",
       "      <th>id</th>\n",
       "      <th>developer</th>\n",
       "      <th>sentiment</th>\n",
       "      <th>metascore</th>\n",
       "    </tr>\n",
       "  </thead>\n",
       "  <tbody>\n",
       "    <tr>\n",
       "      <th>74</th>\n",
       "      <td>NaN</td>\n",
       "      <td>NaN</td>\n",
       "      <td>NaN</td>\n",
       "      <td>NaN</td>\n",
       "      <td>http://store.steampowered.com/</td>\n",
       "      <td>NaN</td>\n",
       "      <td>NaN</td>\n",
       "      <td>14.99</td>\n",
       "      <td>NaN</td>\n",
       "      <td>NaN</td>\n",
       "      <td>19.99</td>\n",
       "      <td>False</td>\n",
       "      <td>NaN</td>\n",
       "      <td>NaN</td>\n",
       "      <td>NaN</td>\n",
       "      <td>NaN</td>\n",
       "    </tr>\n",
       "    <tr>\n",
       "      <th>30961</th>\n",
       "      <td>Warner Bros. Interactive Entertainment, Feral ...</td>\n",
       "      <td>[Action, Adventure]</td>\n",
       "      <td>Batman: Arkham City - Game of the Year Edition</td>\n",
       "      <td>Batman: Arkham City - Game of the Year Edition</td>\n",
       "      <td>http://store.steampowered.com/app/200260</td>\n",
       "      <td>2012-09-07</td>\n",
       "      <td>[Action, Open World, Batman, Adventure, Stealt...</td>\n",
       "      <td>NaN</td>\n",
       "      <td>NaN</td>\n",
       "      <td>[Single-player, Steam Achievements, Steam Trad...</td>\n",
       "      <td>19.99</td>\n",
       "      <td>False</td>\n",
       "      <td>NaN</td>\n",
       "      <td>Rocksteady Studios,Feral Interactive (Mac)</td>\n",
       "      <td>Overwhelmingly Positive</td>\n",
       "      <td>91</td>\n",
       "    </tr>\n",
       "  </tbody>\n",
       "</table>\n",
       "</div>"
      ],
      "text/plain": [
       "                                               publisher               genres  \\\n",
       "74                                                   NaN                  NaN   \n",
       "30961  Warner Bros. Interactive Entertainment, Feral ...  [Action, Adventure]   \n",
       "\n",
       "                                             app_name  \\\n",
       "74                                                NaN   \n",
       "30961  Batman: Arkham City - Game of the Year Edition   \n",
       "\n",
       "                                                title  \\\n",
       "74                                                NaN   \n",
       "30961  Batman: Arkham City - Game of the Year Edition   \n",
       "\n",
       "                                            url release_date  \\\n",
       "74               http://store.steampowered.com/          NaN   \n",
       "30961  http://store.steampowered.com/app/200260   2012-09-07   \n",
       "\n",
       "                                                    tags  discount_price  \\\n",
       "74                                                   NaN           14.99   \n",
       "30961  [Action, Open World, Batman, Adventure, Stealt...             NaN   \n",
       "\n",
       "      reviews_url                                              specs  price  \\\n",
       "74            NaN                                                NaN  19.99   \n",
       "30961         NaN  [Single-player, Steam Achievements, Steam Trad...  19.99   \n",
       "\n",
       "       early_access   id                                   developer  \\\n",
       "74            False  NaN                                         NaN   \n",
       "30961         False  NaN  Rocksteady Studios,Feral Interactive (Mac)   \n",
       "\n",
       "                     sentiment metascore  \n",
       "74                         NaN       NaN  \n",
       "30961  Overwhelmingly Positive        91  "
      ]
     },
     "execution_count": 155,
     "metadata": {},
     "output_type": "execute_result"
    }
   ],
   "source": [
    "df_games[df_games[\"id\"].isna()]"
   ]
  },
  {
   "cell_type": "markdown",
   "metadata": {},
   "source": [
    "luego de ver que la columna 'app_name' solamente tenia dos valores nulos decido buscarlos y con la url y buscando en google me doy cuenta que el registro 74 tienemuchos valores faltantes y no es relevante porque no tiene un nombre de juego, id ni una url relevante decido borrarlo y al registro 2580 luego de hacer el mismo procedimiento decido actualizar la columna 'app_name' y 'title'con el nombre del juego es 'DUET', tambien me doy cuenta que unicamente tengo dos valores faltantes en 'id' y ya borre uno de los faltantes entonces tambien decido buscar con el url y me doy cuenta que el id tambien me aparece en la url de steam  entonces procedo tambien a cambiarlo"
   ]
  },
  {
   "cell_type": "code",
   "execution_count": 156,
   "metadata": {},
   "outputs": [],
   "source": [
    "# elimino la fila 74\n",
    "df_games = df_games.drop(74)"
   ]
  },
  {
   "cell_type": "code",
   "execution_count": 157,
   "metadata": {},
   "outputs": [],
   "source": [
    "df_games.loc[2580, 'app_name'] = \"Duet\" # Cambio el nombre en la columna 'app_name'\n",
    "df_games.loc[2580, 'title'] = \"Duet\" # Cambio el nombre en la columna 'title'"
   ]
  },
  {
   "cell_type": "code",
   "execution_count": 158,
   "metadata": {},
   "outputs": [],
   "source": [
    "df_games.loc[30961, 'id'] = 200260.0 # Cambio el Nan de  la columna 30961 en la columna 'id' por el valor 200260.0 porque me aparece en internet y esta en float"
   ]
  },
  {
   "cell_type": "code",
   "execution_count": 159,
   "metadata": {},
   "outputs": [
    {
     "data": {
      "text/plain": [
       "publisher          8051\n",
       "genres             3282\n",
       "app_name              0\n",
       "title              2048\n",
       "url                   0\n",
       "release_date       2066\n",
       "tags                162\n",
       "discount_price    31910\n",
       "reviews_url           1\n",
       "specs               669\n",
       "price              1377\n",
       "early_access          0\n",
       "id                    0\n",
       "developer          3298\n",
       "sentiment          7181\n",
       "metascore         29457\n",
       "dtype: int64"
      ]
     },
     "execution_count": 159,
     "metadata": {},
     "output_type": "execute_result"
    }
   ],
   "source": [
    "df_games.isna().sum()"
   ]
  },
  {
   "cell_type": "code",
   "execution_count": 160,
   "metadata": {},
   "outputs": [
    {
     "data": {
      "text/html": [
       "<div>\n",
       "<style scoped>\n",
       "    .dataframe tbody tr th:only-of-type {\n",
       "        vertical-align: middle;\n",
       "    }\n",
       "\n",
       "    .dataframe tbody tr th {\n",
       "        vertical-align: top;\n",
       "    }\n",
       "\n",
       "    .dataframe thead th {\n",
       "        text-align: right;\n",
       "    }\n",
       "</style>\n",
       "<table border=\"1\" class=\"dataframe\">\n",
       "  <thead>\n",
       "    <tr style=\"text-align: right;\">\n",
       "      <th></th>\n",
       "      <th>publisher</th>\n",
       "      <th>genres</th>\n",
       "      <th>app_name</th>\n",
       "      <th>title</th>\n",
       "      <th>url</th>\n",
       "      <th>release_date</th>\n",
       "      <th>tags</th>\n",
       "      <th>discount_price</th>\n",
       "      <th>reviews_url</th>\n",
       "      <th>specs</th>\n",
       "      <th>price</th>\n",
       "      <th>early_access</th>\n",
       "      <th>id</th>\n",
       "      <th>developer</th>\n",
       "      <th>sentiment</th>\n",
       "      <th>metascore</th>\n",
       "    </tr>\n",
       "  </thead>\n",
       "  <tbody>\n",
       "    <tr>\n",
       "      <th>0</th>\n",
       "      <td>Kotoshiro</td>\n",
       "      <td>[Action, Casual, Indie, Simulation, Strategy]</td>\n",
       "      <td>Lost Summoner Kitty</td>\n",
       "      <td>Lost Summoner Kitty</td>\n",
       "      <td>http://store.steampowered.com/app/761140/Lost_...</td>\n",
       "      <td>2018-01-04</td>\n",
       "      <td>[Strategy, Action, Indie, Casual, Simulation]</td>\n",
       "      <td>4.49</td>\n",
       "      <td>http://steamcommunity.com/app/761140/reviews/?...</td>\n",
       "      <td>[Single-player]</td>\n",
       "      <td>4.99</td>\n",
       "      <td>False</td>\n",
       "      <td>761140</td>\n",
       "      <td>Kotoshiro</td>\n",
       "      <td>NaN</td>\n",
       "      <td>NaN</td>\n",
       "    </tr>\n",
       "    <tr>\n",
       "      <th>1</th>\n",
       "      <td>Making Fun, Inc.</td>\n",
       "      <td>[Free to Play, Indie, RPG, Strategy]</td>\n",
       "      <td>Ironbound</td>\n",
       "      <td>Ironbound</td>\n",
       "      <td>http://store.steampowered.com/app/643980/Ironb...</td>\n",
       "      <td>2018-01-04</td>\n",
       "      <td>[Free to Play, Strategy, Indie, RPG, Card Game...</td>\n",
       "      <td>NaN</td>\n",
       "      <td>http://steamcommunity.com/app/643980/reviews/?...</td>\n",
       "      <td>[Single-player, Multi-player, Online Multi-Pla...</td>\n",
       "      <td>Free To Play</td>\n",
       "      <td>False</td>\n",
       "      <td>643980</td>\n",
       "      <td>Secret Level SRL</td>\n",
       "      <td>Mostly Positive</td>\n",
       "      <td>NaN</td>\n",
       "    </tr>\n",
       "    <tr>\n",
       "      <th>2</th>\n",
       "      <td>Poolians.com</td>\n",
       "      <td>[Casual, Free to Play, Indie, Simulation, Sports]</td>\n",
       "      <td>Real Pool 3D - Poolians</td>\n",
       "      <td>Real Pool 3D - Poolians</td>\n",
       "      <td>http://store.steampowered.com/app/670290/Real_...</td>\n",
       "      <td>2017-07-24</td>\n",
       "      <td>[Free to Play, Simulation, Sports, Casual, Ind...</td>\n",
       "      <td>NaN</td>\n",
       "      <td>http://steamcommunity.com/app/670290/reviews/?...</td>\n",
       "      <td>[Single-player, Multi-player, Online Multi-Pla...</td>\n",
       "      <td>Free to Play</td>\n",
       "      <td>False</td>\n",
       "      <td>670290</td>\n",
       "      <td>Poolians.com</td>\n",
       "      <td>Mostly Positive</td>\n",
       "      <td>NaN</td>\n",
       "    </tr>\n",
       "  </tbody>\n",
       "</table>\n",
       "</div>"
      ],
      "text/plain": [
       "          publisher                                             genres  \\\n",
       "0         Kotoshiro      [Action, Casual, Indie, Simulation, Strategy]   \n",
       "1  Making Fun, Inc.               [Free to Play, Indie, RPG, Strategy]   \n",
       "2      Poolians.com  [Casual, Free to Play, Indie, Simulation, Sports]   \n",
       "\n",
       "                  app_name                    title  \\\n",
       "0      Lost Summoner Kitty      Lost Summoner Kitty   \n",
       "1                Ironbound                Ironbound   \n",
       "2  Real Pool 3D - Poolians  Real Pool 3D - Poolians   \n",
       "\n",
       "                                                 url release_date  \\\n",
       "0  http://store.steampowered.com/app/761140/Lost_...   2018-01-04   \n",
       "1  http://store.steampowered.com/app/643980/Ironb...   2018-01-04   \n",
       "2  http://store.steampowered.com/app/670290/Real_...   2017-07-24   \n",
       "\n",
       "                                                tags  discount_price  \\\n",
       "0      [Strategy, Action, Indie, Casual, Simulation]            4.49   \n",
       "1  [Free to Play, Strategy, Indie, RPG, Card Game...             NaN   \n",
       "2  [Free to Play, Simulation, Sports, Casual, Ind...             NaN   \n",
       "\n",
       "                                         reviews_url  \\\n",
       "0  http://steamcommunity.com/app/761140/reviews/?...   \n",
       "1  http://steamcommunity.com/app/643980/reviews/?...   \n",
       "2  http://steamcommunity.com/app/670290/reviews/?...   \n",
       "\n",
       "                                               specs         price  \\\n",
       "0                                    [Single-player]          4.99   \n",
       "1  [Single-player, Multi-player, Online Multi-Pla...  Free To Play   \n",
       "2  [Single-player, Multi-player, Online Multi-Pla...  Free to Play   \n",
       "\n",
       "   early_access      id         developer        sentiment metascore  \n",
       "0         False  761140         Kotoshiro              NaN       NaN  \n",
       "1         False  643980  Secret Level SRL  Mostly Positive       NaN  \n",
       "2         False  670290      Poolians.com  Mostly Positive       NaN  "
      ]
     },
     "execution_count": 160,
     "metadata": {},
     "output_type": "execute_result"
    }
   ],
   "source": [
    "df_games.head(3)"
   ]
  },
  {
   "cell_type": "code",
   "execution_count": 161,
   "metadata": {},
   "outputs": [
    {
     "name": "stdout",
     "output_type": "stream",
     "text": [
      "<class 'pandas.core.frame.DataFrame'>\n",
      "Int64Index: 32134 entries, 0 to 32134\n",
      "Data columns (total 16 columns):\n",
      " #   Column          Non-Null Count  Dtype  \n",
      "---  ------          --------------  -----  \n",
      " 0   publisher       24083 non-null  object \n",
      " 1   genres          28852 non-null  object \n",
      " 2   app_name        32134 non-null  object \n",
      " 3   title           30086 non-null  object \n",
      " 4   url             32134 non-null  object \n",
      " 5   release_date    30068 non-null  object \n",
      " 6   tags            31972 non-null  object \n",
      " 7   discount_price  224 non-null    float64\n",
      " 8   reviews_url     32133 non-null  object \n",
      " 9   specs           31465 non-null  object \n",
      " 10  price           30757 non-null  object \n",
      " 11  early_access    32134 non-null  bool   \n",
      " 12  id              32134 non-null  object \n",
      " 13  developer       28836 non-null  object \n",
      " 14  sentiment       24953 non-null  object \n",
      " 15  metascore       2677 non-null   object \n",
      "dtypes: bool(1), float64(1), object(14)\n",
      "memory usage: 5.0+ MB\n"
     ]
    }
   ],
   "source": [
    "df_games.info()"
   ]
  },
  {
   "cell_type": "code",
   "execution_count": 162,
   "metadata": {},
   "outputs": [],
   "source": [
    "df_games[\"id\"] = df_games[\"id\"].astype(int)"
   ]
  },
  {
   "cell_type": "code",
   "execution_count": 163,
   "metadata": {},
   "outputs": [
    {
     "name": "stdout",
     "output_type": "stream",
     "text": [
      "<class 'pandas.core.series.Series'>\n",
      "Int64Index: 32134 entries, 0 to 32134\n",
      "Series name: id\n",
      "Non-Null Count  Dtype\n",
      "--------------  -----\n",
      "32134 non-null  int32\n",
      "dtypes: int32(1)\n",
      "memory usage: 1.4 MB\n"
     ]
    }
   ],
   "source": [
    "df_games[\"id\"].info()"
   ]
  },
  {
   "cell_type": "code",
   "execution_count": 164,
   "metadata": {},
   "outputs": [],
   "source": [
    "df_games['release_date'] = pd.to_datetime(games['release_date'], errors='coerce')"
   ]
  },
  {
   "cell_type": "markdown",
   "metadata": {},
   "source": [
    "luego de ver la informacion general del dataframe( .info()) cambio el tipo de datos de la columna 'id' de float a int, y la columna 'release_date' a formato fecha, luego creo la columna nueva de 'release_year' donde almacenare el año "
   ]
  },
  {
   "cell_type": "code",
   "execution_count": 165,
   "metadata": {},
   "outputs": [],
   "source": [
    "df_games[\"release_year\"] = df_games[\"release_date\"].dt.year"
   ]
  },
  {
   "cell_type": "code",
   "execution_count": 269,
   "metadata": {},
   "outputs": [],
   "source": [
    "df_games['release_year'].fillna(9999, inplace=True)"
   ]
  },
  {
   "cell_type": "code",
   "execution_count": 286,
   "metadata": {},
   "outputs": [],
   "source": [
    "df_games['release_year'] = df_games[\"release_year\"].astype(int)"
   ]
  },
  {
   "cell_type": "markdown",
   "metadata": {},
   "source": [
    "luego de hacer las pocas transformaciones necesarias voy a comenzar a crear un archivo '.csv' para cada una de las funciones que guardare en la carpeta 'Data' creo un dataframe donde podre consultar mas adelante las funciones utilizando unicamente las columnas que necesito, sin alterar el archivo original, en cada uno de estos datraframes nuevos voy a a eliminar las filas que creo pertinentes para ofrecer la mejor calidad en  las consultas que seran consumidas por la API  y teniendo simpre presentes los requerimientos del proyecto."
   ]
  },
  {
   "cell_type": "markdown",
   "metadata": {},
   "source": [
    "## Genero:"
   ]
  },
  {
   "cell_type": "markdown",
   "metadata": {},
   "source": [
    "voy crear un nuevo data frame por cada una de las funciones para luego cargarla como un csv, y voy a revisar los valores nulos y con relacion a la cantidad de registros deciso borrarlos, creo una funcion que mas tarde la pasare para pode correr mi API "
   ]
  },
  {
   "cell_type": "code",
   "execution_count": 287,
   "metadata": {},
   "outputs": [],
   "source": [
    "genero = df_games[['release_year','genres']]"
   ]
  },
  {
   "cell_type": "code",
   "execution_count": 288,
   "metadata": {},
   "outputs": [
    {
     "data": {
      "text/plain": [
       "release_year       0\n",
       "genres          3282\n",
       "dtype: int64"
      ]
     },
     "execution_count": 288,
     "metadata": {},
     "output_type": "execute_result"
    }
   ],
   "source": [
    "genero.isna().sum()"
   ]
  },
  {
   "cell_type": "code",
   "execution_count": 291,
   "metadata": {},
   "outputs": [
    {
     "name": "stderr",
     "output_type": "stream",
     "text": [
      "C:\\Users\\mateo\\AppData\\Local\\Temp\\ipykernel_15668\\1812928130.py:1: SettingWithCopyWarning: \n",
      "A value is trying to be set on a copy of a slice from a DataFrame\n",
      "\n",
      "See the caveats in the documentation: https://pandas.pydata.org/pandas-docs/stable/user_guide/indexing.html#returning-a-view-versus-a-copy\n",
      "  genero.dropna(subset=['genres'], inplace=True)\n"
     ]
    }
   ],
   "source": [
    "genero.dropna(subset=['genres'], inplace=True)"
   ]
  },
  {
   "cell_type": "code",
   "execution_count": 292,
   "metadata": {},
   "outputs": [
    {
     "data": {
      "text/plain": [
       "release_year    0\n",
       "genres          0\n",
       "dtype: int64"
      ]
     },
     "execution_count": 292,
     "metadata": {},
     "output_type": "execute_result"
    }
   ],
   "source": [
    "genero.isna().sum()"
   ]
  },
  {
   "cell_type": "code",
   "execution_count": 293,
   "metadata": {},
   "outputs": [
    {
     "data": {
      "text/html": [
       "<div>\n",
       "<style scoped>\n",
       "    .dataframe tbody tr th:only-of-type {\n",
       "        vertical-align: middle;\n",
       "    }\n",
       "\n",
       "    .dataframe tbody tr th {\n",
       "        vertical-align: top;\n",
       "    }\n",
       "\n",
       "    .dataframe thead th {\n",
       "        text-align: right;\n",
       "    }\n",
       "</style>\n",
       "<table border=\"1\" class=\"dataframe\">\n",
       "  <thead>\n",
       "    <tr style=\"text-align: right;\">\n",
       "      <th></th>\n",
       "      <th>release_year</th>\n",
       "      <th>genres</th>\n",
       "    </tr>\n",
       "  </thead>\n",
       "  <tbody>\n",
       "    <tr>\n",
       "      <th>0</th>\n",
       "      <td>2018</td>\n",
       "      <td>[Action, Casual, Indie, Simulation, Strategy]</td>\n",
       "    </tr>\n",
       "    <tr>\n",
       "      <th>1</th>\n",
       "      <td>2018</td>\n",
       "      <td>[Free to Play, Indie, RPG, Strategy]</td>\n",
       "    </tr>\n",
       "    <tr>\n",
       "      <th>2</th>\n",
       "      <td>2017</td>\n",
       "      <td>[Casual, Free to Play, Indie, Simulation, Sports]</td>\n",
       "    </tr>\n",
       "    <tr>\n",
       "      <th>3</th>\n",
       "      <td>2017</td>\n",
       "      <td>[Action, Adventure, Casual]</td>\n",
       "    </tr>\n",
       "    <tr>\n",
       "      <th>5</th>\n",
       "      <td>2018</td>\n",
       "      <td>[Action, Adventure, Simulation]</td>\n",
       "    </tr>\n",
       "  </tbody>\n",
       "</table>\n",
       "</div>"
      ],
      "text/plain": [
       "   release_year                                             genres\n",
       "0          2018      [Action, Casual, Indie, Simulation, Strategy]\n",
       "1          2018               [Free to Play, Indie, RPG, Strategy]\n",
       "2          2017  [Casual, Free to Play, Indie, Simulation, Sports]\n",
       "3          2017                        [Action, Adventure, Casual]\n",
       "5          2018                    [Action, Adventure, Simulation]"
      ]
     },
     "execution_count": 293,
     "metadata": {},
     "output_type": "execute_result"
    }
   ],
   "source": [
    "genero.head()"
   ]
  },
  {
   "cell_type": "code",
   "execution_count": 294,
   "metadata": {},
   "outputs": [],
   "source": [
    "genero.to_csv('Data/generos.csv', index=False)"
   ]
  },
  {
   "cell_type": "code",
   "execution_count": 487,
   "metadata": {},
   "outputs": [],
   "source": [
    "df_genero= pd.read_csv('Data/generos.csv')"
   ]
  },
  {
   "cell_type": "code",
   "execution_count": 488,
   "metadata": {},
   "outputs": [
    {
     "data": {
      "text/html": [
       "<div>\n",
       "<style scoped>\n",
       "    .dataframe tbody tr th:only-of-type {\n",
       "        vertical-align: middle;\n",
       "    }\n",
       "\n",
       "    .dataframe tbody tr th {\n",
       "        vertical-align: top;\n",
       "    }\n",
       "\n",
       "    .dataframe thead th {\n",
       "        text-align: right;\n",
       "    }\n",
       "</style>\n",
       "<table border=\"1\" class=\"dataframe\">\n",
       "  <thead>\n",
       "    <tr style=\"text-align: right;\">\n",
       "      <th></th>\n",
       "      <th>release_year</th>\n",
       "      <th>genres</th>\n",
       "    </tr>\n",
       "  </thead>\n",
       "  <tbody>\n",
       "    <tr>\n",
       "      <th>0</th>\n",
       "      <td>2018</td>\n",
       "      <td>['Action', 'Casual', 'Indie', 'Simulation', 'S...</td>\n",
       "    </tr>\n",
       "    <tr>\n",
       "      <th>1</th>\n",
       "      <td>2018</td>\n",
       "      <td>['Free to Play', 'Indie', 'RPG', 'Strategy']</td>\n",
       "    </tr>\n",
       "    <tr>\n",
       "      <th>2</th>\n",
       "      <td>2017</td>\n",
       "      <td>['Casual', 'Free to Play', 'Indie', 'Simulatio...</td>\n",
       "    </tr>\n",
       "    <tr>\n",
       "      <th>3</th>\n",
       "      <td>2017</td>\n",
       "      <td>['Action', 'Adventure', 'Casual']</td>\n",
       "    </tr>\n",
       "    <tr>\n",
       "      <th>4</th>\n",
       "      <td>2018</td>\n",
       "      <td>['Action', 'Adventure', 'Simulation']</td>\n",
       "    </tr>\n",
       "  </tbody>\n",
       "</table>\n",
       "</div>"
      ],
      "text/plain": [
       "   release_year                                             genres\n",
       "0          2018  ['Action', 'Casual', 'Indie', 'Simulation', 'S...\n",
       "1          2018       ['Free to Play', 'Indie', 'RPG', 'Strategy']\n",
       "2          2017  ['Casual', 'Free to Play', 'Indie', 'Simulatio...\n",
       "3          2017                  ['Action', 'Adventure', 'Casual']\n",
       "4          2018              ['Action', 'Adventure', 'Simulation']"
      ]
     },
     "execution_count": 488,
     "metadata": {},
     "output_type": "execute_result"
    }
   ],
   "source": [
    "df_genero.head()"
   ]
  },
  {
   "cell_type": "markdown",
   "metadata": {},
   "source": [
    "voy a aplicar de la libreria ast a la columna generos, ya que luego de crear un csv no se crean una lista sino cadenas y lo que necesito para poder utilizarlo son listas que mas adelante voy a realizar la operacion 'explode()'  "
   ]
  },
  {
   "cell_type": "code",
   "execution_count": 489,
   "metadata": {},
   "outputs": [],
   "source": [
    "df_genero['genres'] = df_genero['genres'].apply(ast.literal_eval)"
   ]
  },
  {
   "cell_type": "code",
   "execution_count": 490,
   "metadata": {},
   "outputs": [
    {
     "data": {
      "text/html": [
       "<div>\n",
       "<style scoped>\n",
       "    .dataframe tbody tr th:only-of-type {\n",
       "        vertical-align: middle;\n",
       "    }\n",
       "\n",
       "    .dataframe tbody tr th {\n",
       "        vertical-align: top;\n",
       "    }\n",
       "\n",
       "    .dataframe thead th {\n",
       "        text-align: right;\n",
       "    }\n",
       "</style>\n",
       "<table border=\"1\" class=\"dataframe\">\n",
       "  <thead>\n",
       "    <tr style=\"text-align: right;\">\n",
       "      <th></th>\n",
       "      <th>release_year</th>\n",
       "      <th>genres</th>\n",
       "    </tr>\n",
       "  </thead>\n",
       "  <tbody>\n",
       "    <tr>\n",
       "      <th>0</th>\n",
       "      <td>2018</td>\n",
       "      <td>[Action, Casual, Indie, Simulation, Strategy]</td>\n",
       "    </tr>\n",
       "    <tr>\n",
       "      <th>1</th>\n",
       "      <td>2018</td>\n",
       "      <td>[Free to Play, Indie, RPG, Strategy]</td>\n",
       "    </tr>\n",
       "    <tr>\n",
       "      <th>2</th>\n",
       "      <td>2017</td>\n",
       "      <td>[Casual, Free to Play, Indie, Simulation, Sports]</td>\n",
       "    </tr>\n",
       "    <tr>\n",
       "      <th>3</th>\n",
       "      <td>2017</td>\n",
       "      <td>[Action, Adventure, Casual]</td>\n",
       "    </tr>\n",
       "    <tr>\n",
       "      <th>4</th>\n",
       "      <td>2018</td>\n",
       "      <td>[Action, Adventure, Simulation]</td>\n",
       "    </tr>\n",
       "  </tbody>\n",
       "</table>\n",
       "</div>"
      ],
      "text/plain": [
       "   release_year                                             genres\n",
       "0          2018      [Action, Casual, Indie, Simulation, Strategy]\n",
       "1          2018               [Free to Play, Indie, RPG, Strategy]\n",
       "2          2017  [Casual, Free to Play, Indie, Simulation, Sports]\n",
       "3          2017                        [Action, Adventure, Casual]\n",
       "4          2018                    [Action, Adventure, Simulation]"
      ]
     },
     "execution_count": 490,
     "metadata": {},
     "output_type": "execute_result"
    }
   ],
   "source": [
    "df_genero.head()"
   ]
  },
  {
   "cell_type": "code",
   "execution_count": 496,
   "metadata": {},
   "outputs": [],
   "source": [
    "def funcion_generos(year):\n",
    "    if year == 9999:\n",
    "        print (\"NO SE TIENE UN REGISTRO PRECISO DE LA LISTA DE GENEROS  PARA EL AÑO INGRESADO, ES UNA RECOPILACION DE LOS POSIBLES GENEROS \")\n",
    "    df_anio = df_genero[df_genero['release_year'] == year]\n",
    "    if df_anio.empty:\n",
    "        return {\"VALUE_ERROR\": \"NO EXISTEN DATOS DISPONIBLES PARA EL AÑO INGRESADO\"}\n",
    "    \n",
    "    count_genres = df_anio['genres'].explode().value_counts().to_dict()\n",
    "\n",
    "    top_genres = dict(sorted(count_genres.items(), key=lambda item: item[1], reverse=True)[:5])\n",
    "    \n",
    "    return top_genres"
   ]
  },
  {
   "cell_type": "code",
   "execution_count": 497,
   "metadata": {},
   "outputs": [
    {
     "data": {
      "text/plain": [
       "{'Indie': 4105,\n",
       " 'Action': 2543,\n",
       " 'Casual': 2141,\n",
       " 'Adventure': 2041,\n",
       " 'Simulation': 1666}"
      ]
     },
     "execution_count": 497,
     "metadata": {},
     "output_type": "execute_result"
    }
   ],
   "source": [
    "funcion_generos(2016)"
   ]
  },
  {
   "cell_type": "markdown",
   "metadata": {},
   "source": [
    "creo la funcion de generos que pruebo para luego utilizarlo en el archivo'main.py' donde estara el codigo de mi API "
   ]
  },
  {
   "cell_type": "markdown",
   "metadata": {},
   "source": [
    "## Juegos:"
   ]
  },
  {
   "cell_type": "markdown",
   "metadata": {},
   "source": [
    "voy a crear un dataframe unicamente con las columnas mas relevantes para esta funcion voy a utilizar las columnas 'app_name' y 'release_year'"
   ]
  },
  {
   "cell_type": "code",
   "execution_count": 301,
   "metadata": {},
   "outputs": [],
   "source": [
    "juegos = df_games[['release_year','app_name']]"
   ]
  },
  {
   "cell_type": "code",
   "execution_count": 302,
   "metadata": {},
   "outputs": [
    {
     "name": "stdout",
     "output_type": "stream",
     "text": [
      "<class 'pandas.core.frame.DataFrame'>\n",
      "Int64Index: 32134 entries, 0 to 32134\n",
      "Data columns (total 2 columns):\n",
      " #   Column        Non-Null Count  Dtype \n",
      "---  ------        --------------  ----- \n",
      " 0   release_year  32134 non-null  int32 \n",
      " 1   app_name      32134 non-null  object\n",
      "dtypes: int32(1), object(1)\n",
      "memory usage: 1.6+ MB\n"
     ]
    }
   ],
   "source": [
    "juegos.info()"
   ]
  },
  {
   "cell_type": "code",
   "execution_count": 303,
   "metadata": {},
   "outputs": [],
   "source": [
    "juegos.to_csv('Data/juegos.csv', index=False)"
   ]
  },
  {
   "cell_type": "code",
   "execution_count": 495,
   "metadata": {},
   "outputs": [],
   "source": [
    "df_juegos = pd.read_csv('Data/juegos.csv')"
   ]
  },
  {
   "cell_type": "markdown",
   "metadata": {},
   "source": [
    "voy a crear la funcion de juegos que me dira todos los juegos lanzados en un año ingresado "
   ]
  },
  {
   "cell_type": "code",
   "execution_count": 499,
   "metadata": {},
   "outputs": [],
   "source": [
    "def funcion_juegos(year):\n",
    "    if year == 9999:\n",
    "        print (\"NO SE TIENE UN REGISTRO PRECISO DE LA LISTA DE JUEGOS  PARA EL AÑO INGRESADO, ES UNA RECOPILACION DE LOS POSIBLES JUEGOS \")\n",
    "    df_anio = df_juegos[df_juegos['release_year'] == year]\n",
    "    if df_anio.empty:\n",
    "        return {\"VALUE_ERROR\": \"NO EXISTEN DATOS DISPONIBLES PARA EL AÑO INGRESADO\"}\n",
    "\n",
    "    df_anio['app_name'] = df_anio['app_name'].astype(str)\n",
    "\n",
    "    juegos_lanzados = df_anio['app_name'].astype(str).tolist()\n",
    "    cantidad_juegos = len(juegos_lanzados)\n",
    "\n",
    "    return {\"Año\": year, \"Cantidad de Juegos\": cantidad_juegos, \"Juegos Lanzados\": juegos_lanzados}\n",
    "      "
   ]
  },
  {
   "cell_type": "code",
   "execution_count": 502,
   "metadata": {},
   "outputs": [
    {
     "name": "stderr",
     "output_type": "stream",
     "text": [
      "C:\\Users\\mateo\\AppData\\Local\\Temp\\ipykernel_15668\\250903329.py:8: SettingWithCopyWarning: \n",
      "A value is trying to be set on a copy of a slice from a DataFrame.\n",
      "Try using .loc[row_indexer,col_indexer] = value instead\n",
      "\n",
      "See the caveats in the documentation: https://pandas.pydata.org/pandas-docs/stable/user_guide/indexing.html#returning-a-view-versus-a-copy\n",
      "  df_anio['app_name'] = df_anio['app_name'].astype(str)\n"
     ]
    },
    {
     "data": {
      "text/plain": [
       "{'Año': 2000,\n",
       " 'Cantidad de Juegos': 40,\n",
       " 'Juegos Lanzados': ['The Longest Journey',\n",
       "  'Unreal Tournament: Game of the Year Edition',\n",
       "  'Sacrifice',\n",
       "  'X: Tension',\n",
       "  'Fairy Tale About Father Frost, Ivan and Nastya',\n",
       "  'Pajama Sam 3: You Are What You Eat From Your Head To Your Feet',\n",
       "  'Putt-Putt® Joins the Circus',\n",
       "  'Gunship!',\n",
       "  'Toilet Tycoon',\n",
       "  'Two Family House',\n",
       "  'Ghost Dog: The Way of the Samurai',\n",
       "  'Call to Power II',\n",
       "  'Vampire: The Masquerade - Redemption',\n",
       "  'Nancy Drew®: Message in a Haunted Mansion',\n",
       "  'Beachhead 2000',\n",
       "  'Hidden & Dangerous: Action Pack',\n",
       "  'Invictus: In the Shadow of Olympus',\n",
       "  'Leprechaun: In the Hood',\n",
       "  'American Psycho',\n",
       "  'Hogs of War',\n",
       "  'Ground Control Anthology',\n",
       "  'SHOGUN: Total War™ - Collection',\n",
       "  'Puzzle Station 15th Anniversary Retro Release',\n",
       "  'Atlantis 2: Beyond Atlantis',\n",
       "  'Carmageddon TDR 2000',\n",
       "  'B-17 Flying Fortress: The Mighty 8th',\n",
       "  'Spy Fox In: Hold the Mustard',\n",
       "  'Soulbringer',\n",
       "  'Earth 2150 Trilogy',\n",
       "  'Daikatana',\n",
       "  'Thief™ II: The Metal Age',\n",
       "  'Aliens versus Predator Classic 2000',\n",
       "  'MDK 2',\n",
       "  'Tachyon: The Fringe',\n",
       "  'Delta Force Land Warrior',\n",
       "  'QUAKE III: Team Arena',\n",
       "  'Hitman: Codename 47',\n",
       "  'Deus Ex: Game of the Year Edition',\n",
       "  'Ricochet',\n",
       "  'Counter-Strike']}"
      ]
     },
     "execution_count": 502,
     "metadata": {},
     "output_type": "execute_result"
    }
   ],
   "source": [
    "funcion_juegos(2000)"
   ]
  },
  {
   "cell_type": "markdown",
   "metadata": {},
   "source": [
    "La funcion que decidi crear en el resultado final me da un diccionario del año que yo ingreso y le agregue una parte donde me dice cuantos juegos se lanzaron en ese año y la lista completa de todos los juegos lanzados en el año ingresado"
   ]
  },
  {
   "cell_type": "markdown",
   "metadata": {},
   "source": [
    "## Specs:"
   ]
  },
  {
   "cell_type": "markdown",
   "metadata": {},
   "source": [
    "sigo con la misma dinamica creando un dataframe unicamente con las columna necesarias: 'release_year' y 'specs' y luego lo convierto en un archiva .csv para finalmente crear la funcion."
   ]
  },
  {
   "cell_type": "code",
   "execution_count": 314,
   "metadata": {},
   "outputs": [],
   "source": [
    "especificaciones = df_games[['release_year','specs']]"
   ]
  },
  {
   "cell_type": "code",
   "execution_count": 315,
   "metadata": {},
   "outputs": [
    {
     "data": {
      "text/plain": [
       "release_year      0\n",
       "specs           669\n",
       "dtype: int64"
      ]
     },
     "execution_count": 315,
     "metadata": {},
     "output_type": "execute_result"
    }
   ],
   "source": [
    "especificaciones.isna().sum()"
   ]
  },
  {
   "cell_type": "markdown",
   "metadata": {},
   "source": [
    "voy a borrar las filas que tengan los datos Nan de la columna 'specs' ya que relativamente no son muchos en comparacion con la cantidad de registros   "
   ]
  },
  {
   "cell_type": "code",
   "execution_count": 316,
   "metadata": {},
   "outputs": [
    {
     "data": {
      "text/plain": [
       "(32134, 2)"
      ]
     },
     "execution_count": 316,
     "metadata": {},
     "output_type": "execute_result"
    }
   ],
   "source": [
    "especificaciones.shape"
   ]
  },
  {
   "cell_type": "code",
   "execution_count": 318,
   "metadata": {},
   "outputs": [
    {
     "name": "stderr",
     "output_type": "stream",
     "text": [
      "C:\\Users\\mateo\\AppData\\Local\\Temp\\ipykernel_15668\\1715576812.py:1: SettingWithCopyWarning: \n",
      "A value is trying to be set on a copy of a slice from a DataFrame\n",
      "\n",
      "See the caveats in the documentation: https://pandas.pydata.org/pandas-docs/stable/user_guide/indexing.html#returning-a-view-versus-a-copy\n",
      "  especificaciones.dropna(subset=['specs'], inplace=True)\n"
     ]
    }
   ],
   "source": [
    "especificaciones.dropna(subset=['specs'], inplace=True)"
   ]
  },
  {
   "cell_type": "code",
   "execution_count": 323,
   "metadata": {},
   "outputs": [],
   "source": [
    "especificaciones.to_csv('Data/specs.csv', index=False)"
   ]
  },
  {
   "cell_type": "code",
   "execution_count": 324,
   "metadata": {},
   "outputs": [],
   "source": [
    "df_specs = pd.read_csv('Data/specs.csv')"
   ]
  },
  {
   "cell_type": "code",
   "execution_count": 326,
   "metadata": {},
   "outputs": [],
   "source": [
    "df_specs['specs'] = df_specs['specs'].apply(ast.literal_eval)"
   ]
  },
  {
   "cell_type": "markdown",
   "metadata": {},
   "source": [
    "luego de crear el archivo .csv lo cargo para crear la funcion que mas tarde utiizare en mi archivo 'main.py'"
   ]
  },
  {
   "cell_type": "code",
   "execution_count": 503,
   "metadata": {},
   "outputs": [],
   "source": [
    "def funcion_specs(year):\n",
    "    if year == 9999:\n",
    "        print (\"NO SE TIENE UN REGISTRO PRECISO DE LA LISTA DE ESPECIFICACIONES  PARA EL AÑO INGRESADO, ES UNA RECOPILACION DE LAS POSIBLES ESPECIFICACIONES \")\n",
    "    df_anio = df_specs[df_specs['release_year'] == year]\n",
    "    if df_anio.empty:\n",
    "        return {\"VALUE_ERROR\": \"NO EXISTEN DATOS DISPONIBLES PARA EL AÑO INGRESADO\"}\n",
    "\n",
    "    count_specs = df_anio['specs'].explode().value_counts().to_dict()\n",
    "    top_specs = dict(sorted(count_specs.items(), key=lambda item: item[1], reverse=True)[:5])\n",
    "\n",
    "    return {'Año': year, 'Especificaciones': top_specs}"
   ]
  },
  {
   "cell_type": "code",
   "execution_count": 508,
   "metadata": {},
   "outputs": [
    {
     "data": {
      "text/plain": [
       "{'Año': 2015,\n",
       " 'Especificaciones': {'Single-player': 4354,\n",
       "  'Steam Achievements': 2870,\n",
       "  'Steam Trading Cards': 2521,\n",
       "  'Downloadable Content': 2156,\n",
       "  'Steam Cloud': 1888}}"
      ]
     },
     "execution_count": 508,
     "metadata": {},
     "output_type": "execute_result"
    }
   ],
   "source": [
    "funcion_specs(2015)"
   ]
  },
  {
   "cell_type": "markdown",
   "metadata": {},
   "source": [
    "Como en la primera funcion de generos decidi reutilizar el codigo en donde el resultado es el año que se ingresa y un diccionario de las especificaciones del mismo año con un conteo mas detallado de cada una de ellas "
   ]
  },
  {
   "cell_type": "markdown",
   "metadata": {},
   "source": [
    "## Early_Acces:"
   ]
  },
  {
   "cell_type": "code",
   "execution_count": 336,
   "metadata": {},
   "outputs": [
    {
     "data": {
      "text/html": [
       "<div>\n",
       "<style scoped>\n",
       "    .dataframe tbody tr th:only-of-type {\n",
       "        vertical-align: middle;\n",
       "    }\n",
       "\n",
       "    .dataframe tbody tr th {\n",
       "        vertical-align: top;\n",
       "    }\n",
       "\n",
       "    .dataframe thead th {\n",
       "        text-align: right;\n",
       "    }\n",
       "</style>\n",
       "<table border=\"1\" class=\"dataframe\">\n",
       "  <thead>\n",
       "    <tr style=\"text-align: right;\">\n",
       "      <th></th>\n",
       "      <th>publisher</th>\n",
       "      <th>genres</th>\n",
       "      <th>app_name</th>\n",
       "      <th>title</th>\n",
       "      <th>url</th>\n",
       "      <th>release_date</th>\n",
       "      <th>tags</th>\n",
       "      <th>discount_price</th>\n",
       "      <th>reviews_url</th>\n",
       "      <th>specs</th>\n",
       "      <th>price</th>\n",
       "      <th>early_access</th>\n",
       "      <th>id</th>\n",
       "      <th>developer</th>\n",
       "      <th>sentiment</th>\n",
       "      <th>metascore</th>\n",
       "      <th>release_year</th>\n",
       "    </tr>\n",
       "  </thead>\n",
       "  <tbody>\n",
       "    <tr>\n",
       "      <th>0</th>\n",
       "      <td>Kotoshiro</td>\n",
       "      <td>[Action, Casual, Indie, Simulation, Strategy]</td>\n",
       "      <td>Lost Summoner Kitty</td>\n",
       "      <td>Lost Summoner Kitty</td>\n",
       "      <td>http://store.steampowered.com/app/761140/Lost_...</td>\n",
       "      <td>2018-01-04</td>\n",
       "      <td>[Strategy, Action, Indie, Casual, Simulation]</td>\n",
       "      <td>4.49</td>\n",
       "      <td>http://steamcommunity.com/app/761140/reviews/?...</td>\n",
       "      <td>[Single-player]</td>\n",
       "      <td>4.99</td>\n",
       "      <td>False</td>\n",
       "      <td>761140</td>\n",
       "      <td>Kotoshiro</td>\n",
       "      <td>NaN</td>\n",
       "      <td>NaN</td>\n",
       "      <td>2018</td>\n",
       "    </tr>\n",
       "    <tr>\n",
       "      <th>1</th>\n",
       "      <td>Making Fun, Inc.</td>\n",
       "      <td>[Free to Play, Indie, RPG, Strategy]</td>\n",
       "      <td>Ironbound</td>\n",
       "      <td>Ironbound</td>\n",
       "      <td>http://store.steampowered.com/app/643980/Ironb...</td>\n",
       "      <td>2018-01-04</td>\n",
       "      <td>[Free to Play, Strategy, Indie, RPG, Card Game...</td>\n",
       "      <td>NaN</td>\n",
       "      <td>http://steamcommunity.com/app/643980/reviews/?...</td>\n",
       "      <td>[Single-player, Multi-player, Online Multi-Pla...</td>\n",
       "      <td>Free To Play</td>\n",
       "      <td>False</td>\n",
       "      <td>643980</td>\n",
       "      <td>Secret Level SRL</td>\n",
       "      <td>Mostly Positive</td>\n",
       "      <td>NaN</td>\n",
       "      <td>2018</td>\n",
       "    </tr>\n",
       "  </tbody>\n",
       "</table>\n",
       "</div>"
      ],
      "text/plain": [
       "          publisher                                         genres  \\\n",
       "0         Kotoshiro  [Action, Casual, Indie, Simulation, Strategy]   \n",
       "1  Making Fun, Inc.           [Free to Play, Indie, RPG, Strategy]   \n",
       "\n",
       "              app_name                title  \\\n",
       "0  Lost Summoner Kitty  Lost Summoner Kitty   \n",
       "1            Ironbound            Ironbound   \n",
       "\n",
       "                                                 url release_date  \\\n",
       "0  http://store.steampowered.com/app/761140/Lost_...   2018-01-04   \n",
       "1  http://store.steampowered.com/app/643980/Ironb...   2018-01-04   \n",
       "\n",
       "                                                tags  discount_price  \\\n",
       "0      [Strategy, Action, Indie, Casual, Simulation]            4.49   \n",
       "1  [Free to Play, Strategy, Indie, RPG, Card Game...             NaN   \n",
       "\n",
       "                                         reviews_url  \\\n",
       "0  http://steamcommunity.com/app/761140/reviews/?...   \n",
       "1  http://steamcommunity.com/app/643980/reviews/?...   \n",
       "\n",
       "                                               specs         price  \\\n",
       "0                                    [Single-player]          4.99   \n",
       "1  [Single-player, Multi-player, Online Multi-Pla...  Free To Play   \n",
       "\n",
       "   early_access      id         developer        sentiment metascore  \\\n",
       "0         False  761140         Kotoshiro              NaN       NaN   \n",
       "1         False  643980  Secret Level SRL  Mostly Positive       NaN   \n",
       "\n",
       "   release_year  \n",
       "0          2018  \n",
       "1          2018  "
      ]
     },
     "execution_count": 336,
     "metadata": {},
     "output_type": "execute_result"
    }
   ],
   "source": [
    "df_games.head(2)"
   ]
  },
  {
   "cell_type": "code",
   "execution_count": 337,
   "metadata": {},
   "outputs": [],
   "source": [
    "earlyacces = df_games[['release_year','early_access']]"
   ]
  },
  {
   "cell_type": "code",
   "execution_count": 339,
   "metadata": {},
   "outputs": [
    {
     "data": {
      "text/plain": [
       "release_year    0\n",
       "early_access    0\n",
       "dtype: int64"
      ]
     },
     "execution_count": 339,
     "metadata": {},
     "output_type": "execute_result"
    }
   ],
   "source": [
    "earlyacces.isna().sum()"
   ]
  },
  {
   "cell_type": "code",
   "execution_count": 349,
   "metadata": {},
   "outputs": [],
   "source": [
    "earlyacces.to_csv('Data/earlyaccess.csv', index=False)"
   ]
  },
  {
   "cell_type": "code",
   "execution_count": 350,
   "metadata": {},
   "outputs": [],
   "source": [
    "df_earlyacces = pd.read_csv('Data/earlyaccess.csv')"
   ]
  },
  {
   "cell_type": "code",
   "execution_count": 362,
   "metadata": {},
   "outputs": [
    {
     "data": {
      "text/html": [
       "<div>\n",
       "<style scoped>\n",
       "    .dataframe tbody tr th:only-of-type {\n",
       "        vertical-align: middle;\n",
       "    }\n",
       "\n",
       "    .dataframe tbody tr th {\n",
       "        vertical-align: top;\n",
       "    }\n",
       "\n",
       "    .dataframe thead th {\n",
       "        text-align: right;\n",
       "    }\n",
       "</style>\n",
       "<table border=\"1\" class=\"dataframe\">\n",
       "  <thead>\n",
       "    <tr style=\"text-align: right;\">\n",
       "      <th></th>\n",
       "      <th>release_year</th>\n",
       "      <th>early_access</th>\n",
       "    </tr>\n",
       "  </thead>\n",
       "  <tbody>\n",
       "    <tr>\n",
       "      <th>0</th>\n",
       "      <td>2018</td>\n",
       "      <td>False</td>\n",
       "    </tr>\n",
       "    <tr>\n",
       "      <th>1</th>\n",
       "      <td>2018</td>\n",
       "      <td>False</td>\n",
       "    </tr>\n",
       "    <tr>\n",
       "      <th>2</th>\n",
       "      <td>2017</td>\n",
       "      <td>False</td>\n",
       "    </tr>\n",
       "    <tr>\n",
       "      <th>3</th>\n",
       "      <td>2017</td>\n",
       "      <td>False</td>\n",
       "    </tr>\n",
       "    <tr>\n",
       "      <th>4</th>\n",
       "      <td>9999</td>\n",
       "      <td>False</td>\n",
       "    </tr>\n",
       "  </tbody>\n",
       "</table>\n",
       "</div>"
      ],
      "text/plain": [
       "   release_year  early_access\n",
       "0          2018         False\n",
       "1          2018         False\n",
       "2          2017         False\n",
       "3          2017         False\n",
       "4          9999         False"
      ]
     },
     "execution_count": 362,
     "metadata": {},
     "output_type": "execute_result"
    }
   ],
   "source": [
    "df_earlyacces.head()"
   ]
  },
  {
   "cell_type": "code",
   "execution_count": 512,
   "metadata": {},
   "outputs": [],
   "source": [
    "def funcion_earlyacces(year):\n",
    "   if year == 9999:\n",
    "      print (\"NO SE TIENE UN REGISTRO PRECISO DE LA LISTA DE ACCESOS TEMPRANOS  PARA EL AÑO INGRESADO, ES UNA RECOPILACION DE LOS POSIBLES ACCESOS TEMPRANOS \")\n",
    "   filtro = (df_earlyacces['release_year'] == year) & (df_earlyacces['early_access'] == True)\n",
    "   df_year_earlyacces = df_earlyacces[filtro]\n",
    "\n",
    "   if df_year_earlyacces.empty:\n",
    "      return{\"VALUE_ERROR\": \"NO EXISTEN DATOS DISPONIBLES PARA EL AÑO INGRESADO, INTENTE CON OTRA FECHA\"}\n",
    "\n",
    "   count_earlyacces = df_year_earlyacces.shape[0]\n",
    "\n",
    "   return {\"Año\": year, \"Cantidad de Juegos lanzados con early access\": count_earlyacces}"
   ]
  },
  {
   "cell_type": "code",
   "execution_count": 513,
   "metadata": {},
   "outputs": [
    {
     "data": {
      "text/plain": [
       "{'Año': 2014, 'Cantidad de Juegos lanzados con early access': 78}"
      ]
     },
     "execution_count": 513,
     "metadata": {},
     "output_type": "execute_result"
    }
   ],
   "source": [
    "funcion_earlyacces(2014)"
   ]
  },
  {
   "cell_type": "markdown",
   "metadata": {},
   "source": [
    "## sentiment:"
   ]
  },
  {
   "cell_type": "code",
   "execution_count": 388,
   "metadata": {},
   "outputs": [],
   "source": [
    "sentiments = df_games[['release_year', 'sentiment']]"
   ]
  },
  {
   "cell_type": "code",
   "execution_count": 390,
   "metadata": {},
   "outputs": [
    {
     "data": {
      "text/plain": [
       "release_year       0\n",
       "sentiment       7181\n",
       "dtype: int64"
      ]
     },
     "execution_count": 390,
     "metadata": {},
     "output_type": "execute_result"
    }
   ],
   "source": [
    "sentiments.isna().sum()"
   ]
  },
  {
   "cell_type": "code",
   "execution_count": 397,
   "metadata": {},
   "outputs": [
    {
     "data": {
      "text/plain": [
       "0                    NaN\n",
       "1        Mostly Positive\n",
       "2        Mostly Positive\n",
       "3                    NaN\n",
       "4                    NaN\n",
       "              ...       \n",
       "32130                NaN\n",
       "32131                NaN\n",
       "32132                NaN\n",
       "32133     1 user reviews\n",
       "32134           Positive\n",
       "Name: sentiment, Length: 32134, dtype: object"
      ]
     },
     "execution_count": 397,
     "metadata": {},
     "output_type": "execute_result"
    }
   ],
   "source": [
    "sentiments[\"sentiment\"]"
   ]
  },
  {
   "cell_type": "code",
   "execution_count": 399,
   "metadata": {},
   "outputs": [
    {
     "data": {
      "text/plain": [
       "array([nan, 'Mostly Positive', 'Mixed', '1 user reviews',\n",
       "       '3 user reviews', '8 user reviews', 'Very Positive',\n",
       "       'Overwhelmingly Positive', '6 user reviews', '5 user reviews',\n",
       "       '2 user reviews', 'Very Negative', 'Positive', 'Mostly Negative',\n",
       "       '9 user reviews', 'Negative', '4 user reviews', '7 user reviews',\n",
       "       'Overwhelmingly Negative'], dtype=object)"
      ]
     },
     "execution_count": 399,
     "metadata": {},
     "output_type": "execute_result"
    }
   ],
   "source": [
    "sentimientos_unicos = sentiments[\"sentiment\"].unique()\n",
    "sentimientos_unicos"
   ]
  },
  {
   "cell_type": "code",
   "execution_count": 407,
   "metadata": {},
   "outputs": [],
   "source": [
    "estandar_sentimientos = ['Overwhelmingly Positive','Very Positive','Mostly Positive','Positive','Mixed','Negative','Mostly Negative','Very Negative','Overwhelmingly Negative']"
   ]
  },
  {
   "cell_type": "markdown",
   "metadata": {},
   "source": [
    "luego de ver todos los valores que se pueden encontrar en la columna de 'sentiment' decido crear una lista con los sentimientos que realmente me interesan y pienso que son mas relevantes, de esta manera va a ser mas facil crear el dataframe para poder consultarlo   "
   ]
  },
  {
   "cell_type": "code",
   "execution_count": 408,
   "metadata": {},
   "outputs": [],
   "source": [
    " sentiments = sentiments[sentiments['sentiment'].isin(estandar_sentimientos)]"
   ]
  },
  {
   "cell_type": "code",
   "execution_count": 412,
   "metadata": {},
   "outputs": [
    {
     "data": {
      "text/plain": [
       "(15260, 2)"
      ]
     },
     "execution_count": 412,
     "metadata": {},
     "output_type": "execute_result"
    }
   ],
   "source": [
    "sentiments.shape[0]"
   ]
  },
  {
   "cell_type": "code",
   "execution_count": 413,
   "metadata": {},
   "outputs": [
    {
     "data": {
      "text/plain": [
       "16874"
      ]
     },
     "execution_count": 413,
     "metadata": {},
     "output_type": "execute_result"
    }
   ],
   "source": [
    "32134-15260"
   ]
  },
  {
   "cell_type": "markdown",
   "metadata": {},
   "source": [
    "luego de tener estandarizado este dataframe y haber eliminado 16874 filas que no eran relevantes para saber el 'sentiment' ya puedo crear el archivo .csv que utilizare para mi funcion de la Api de Sentiment"
   ]
  },
  {
   "cell_type": "code",
   "execution_count": 415,
   "metadata": {},
   "outputs": [],
   "source": [
    "sentiments.to_csv('Data/sentiments.csv', index=False)"
   ]
  },
  {
   "cell_type": "code",
   "execution_count": 416,
   "metadata": {},
   "outputs": [],
   "source": [
    "df_sentiment = pd.read_csv('Data/sentiments.csv')"
   ]
  },
  {
   "cell_type": "code",
   "execution_count": 514,
   "metadata": {},
   "outputs": [],
   "source": [
    "def funcion_sentiment(year):\n",
    "    if year == 9999:\n",
    "        print (\"NO SE TIENE UN REGISTRO PRECISO DE LA LISTA DE SENTIMIENTOS  PARA EL AÑO INGRESADO, ES UNA RECOPILACION DE LOS POSIBLES SENTIMIENTOS \")\n",
    "    df_anio = df_sentiment[df_sentiment['release_year'] == year] \n",
    "\n",
    "    if df_anio.empty:\n",
    "        return {\"VALUE_ERROR\": \"NO EXISTEN DATOS DISPONIBLES PARA EL AÑO INGRESADO, INTENTE CON OTRA FECHA\"}\n",
    "\n",
    "    conteo_sentimientos = df_anio['sentiment'].value_counts().to_dict()\n",
    "\n",
    "    return {'Año': year, 'Análisis de sentimiento': conteo_sentimientos}"
   ]
  },
  {
   "cell_type": "code",
   "execution_count": 516,
   "metadata": {},
   "outputs": [
    {
     "data": {
      "text/plain": [
       "{'Año': 2012,\n",
       " 'Análisis de sentimiento': {'Very Positive': 191,\n",
       "  'Mixed': 148,\n",
       "  'Positive': 111,\n",
       "  'Mostly Positive': 101,\n",
       "  'Mostly Negative': 27,\n",
       "  'Overwhelmingly Positive': 20,\n",
       "  'Negative': 4,\n",
       "  'Very Negative': 2}}"
      ]
     },
     "execution_count": 516,
     "metadata": {},
     "output_type": "execute_result"
    }
   ],
   "source": [
    "funcion_sentiment(2012)"
   ]
  },
  {
   "cell_type": "markdown",
   "metadata": {},
   "source": [
    "cumpliendo con los requerimientos que me piden en el proyecto la respuesta que devuelvo de cada funcion es el diccionario con el anális de los diferentes sentimientos determinado por el año ingresado  "
   ]
  },
  {
   "cell_type": "markdown",
   "metadata": {},
   "source": [
    "## Metascore:"
   ]
  },
  {
   "cell_type": "code",
   "execution_count": 432,
   "metadata": {},
   "outputs": [
    {
     "data": {
      "text/html": [
       "<div>\n",
       "<style scoped>\n",
       "    .dataframe tbody tr th:only-of-type {\n",
       "        vertical-align: middle;\n",
       "    }\n",
       "\n",
       "    .dataframe tbody tr th {\n",
       "        vertical-align: top;\n",
       "    }\n",
       "\n",
       "    .dataframe thead th {\n",
       "        text-align: right;\n",
       "    }\n",
       "</style>\n",
       "<table border=\"1\" class=\"dataframe\">\n",
       "  <thead>\n",
       "    <tr style=\"text-align: right;\">\n",
       "      <th></th>\n",
       "      <th>publisher</th>\n",
       "      <th>genres</th>\n",
       "      <th>app_name</th>\n",
       "      <th>title</th>\n",
       "      <th>url</th>\n",
       "      <th>release_date</th>\n",
       "      <th>tags</th>\n",
       "      <th>discount_price</th>\n",
       "      <th>reviews_url</th>\n",
       "      <th>specs</th>\n",
       "      <th>price</th>\n",
       "      <th>early_access</th>\n",
       "      <th>id</th>\n",
       "      <th>developer</th>\n",
       "      <th>sentiment</th>\n",
       "      <th>metascore</th>\n",
       "      <th>release_year</th>\n",
       "    </tr>\n",
       "  </thead>\n",
       "  <tbody>\n",
       "    <tr>\n",
       "      <th>0</th>\n",
       "      <td>Kotoshiro</td>\n",
       "      <td>[Action, Casual, Indie, Simulation, Strategy]</td>\n",
       "      <td>Lost Summoner Kitty</td>\n",
       "      <td>Lost Summoner Kitty</td>\n",
       "      <td>http://store.steampowered.com/app/761140/Lost_...</td>\n",
       "      <td>2018-01-04</td>\n",
       "      <td>[Strategy, Action, Indie, Casual, Simulation]</td>\n",
       "      <td>4.49</td>\n",
       "      <td>http://steamcommunity.com/app/761140/reviews/?...</td>\n",
       "      <td>[Single-player]</td>\n",
       "      <td>4.99</td>\n",
       "      <td>False</td>\n",
       "      <td>761140</td>\n",
       "      <td>Kotoshiro</td>\n",
       "      <td>NaN</td>\n",
       "      <td>NaN</td>\n",
       "      <td>2018</td>\n",
       "    </tr>\n",
       "    <tr>\n",
       "      <th>1</th>\n",
       "      <td>Making Fun, Inc.</td>\n",
       "      <td>[Free to Play, Indie, RPG, Strategy]</td>\n",
       "      <td>Ironbound</td>\n",
       "      <td>Ironbound</td>\n",
       "      <td>http://store.steampowered.com/app/643980/Ironb...</td>\n",
       "      <td>2018-01-04</td>\n",
       "      <td>[Free to Play, Strategy, Indie, RPG, Card Game...</td>\n",
       "      <td>NaN</td>\n",
       "      <td>http://steamcommunity.com/app/643980/reviews/?...</td>\n",
       "      <td>[Single-player, Multi-player, Online Multi-Pla...</td>\n",
       "      <td>Free To Play</td>\n",
       "      <td>False</td>\n",
       "      <td>643980</td>\n",
       "      <td>Secret Level SRL</td>\n",
       "      <td>Mostly Positive</td>\n",
       "      <td>NaN</td>\n",
       "      <td>2018</td>\n",
       "    </tr>\n",
       "  </tbody>\n",
       "</table>\n",
       "</div>"
      ],
      "text/plain": [
       "          publisher                                         genres  \\\n",
       "0         Kotoshiro  [Action, Casual, Indie, Simulation, Strategy]   \n",
       "1  Making Fun, Inc.           [Free to Play, Indie, RPG, Strategy]   \n",
       "\n",
       "              app_name                title  \\\n",
       "0  Lost Summoner Kitty  Lost Summoner Kitty   \n",
       "1            Ironbound            Ironbound   \n",
       "\n",
       "                                                 url release_date  \\\n",
       "0  http://store.steampowered.com/app/761140/Lost_...   2018-01-04   \n",
       "1  http://store.steampowered.com/app/643980/Ironb...   2018-01-04   \n",
       "\n",
       "                                                tags  discount_price  \\\n",
       "0      [Strategy, Action, Indie, Casual, Simulation]            4.49   \n",
       "1  [Free to Play, Strategy, Indie, RPG, Card Game...             NaN   \n",
       "\n",
       "                                         reviews_url  \\\n",
       "0  http://steamcommunity.com/app/761140/reviews/?...   \n",
       "1  http://steamcommunity.com/app/643980/reviews/?...   \n",
       "\n",
       "                                               specs         price  \\\n",
       "0                                    [Single-player]          4.99   \n",
       "1  [Single-player, Multi-player, Online Multi-Pla...  Free To Play   \n",
       "\n",
       "   early_access      id         developer        sentiment metascore  \\\n",
       "0         False  761140         Kotoshiro              NaN       NaN   \n",
       "1         False  643980  Secret Level SRL  Mostly Positive       NaN   \n",
       "\n",
       "   release_year  \n",
       "0          2018  \n",
       "1          2018  "
      ]
     },
     "execution_count": 432,
     "metadata": {},
     "output_type": "execute_result"
    }
   ],
   "source": [
    "df_games.head(2)"
   ]
  },
  {
   "cell_type": "code",
   "execution_count": 433,
   "metadata": {},
   "outputs": [],
   "source": [
    "metascore = df_games[['release_year','app_name','metascore']]"
   ]
  },
  {
   "cell_type": "code",
   "execution_count": 439,
   "metadata": {},
   "outputs": [
    {
     "data": {
      "text/plain": [
       "release_year        0\n",
       "app_name            0\n",
       "metascore       29457\n",
       "dtype: int64"
      ]
     },
     "execution_count": 439,
     "metadata": {},
     "output_type": "execute_result"
    }
   ],
   "source": [
    "metascore.isna().sum()"
   ]
  },
  {
   "cell_type": "code",
   "execution_count": 440,
   "metadata": {},
   "outputs": [
    {
     "data": {
      "text/html": [
       "<div>\n",
       "<style scoped>\n",
       "    .dataframe tbody tr th:only-of-type {\n",
       "        vertical-align: middle;\n",
       "    }\n",
       "\n",
       "    .dataframe tbody tr th {\n",
       "        vertical-align: top;\n",
       "    }\n",
       "\n",
       "    .dataframe thead th {\n",
       "        text-align: right;\n",
       "    }\n",
       "</style>\n",
       "<table border=\"1\" class=\"dataframe\">\n",
       "  <thead>\n",
       "    <tr style=\"text-align: right;\">\n",
       "      <th></th>\n",
       "      <th>release_year</th>\n",
       "      <th>app_name</th>\n",
       "      <th>metascore</th>\n",
       "    </tr>\n",
       "  </thead>\n",
       "  <tbody>\n",
       "    <tr>\n",
       "      <th>0</th>\n",
       "      <td>2018</td>\n",
       "      <td>Lost Summoner Kitty</td>\n",
       "      <td>NaN</td>\n",
       "    </tr>\n",
       "    <tr>\n",
       "      <th>1</th>\n",
       "      <td>2018</td>\n",
       "      <td>Ironbound</td>\n",
       "      <td>NaN</td>\n",
       "    </tr>\n",
       "    <tr>\n",
       "      <th>2</th>\n",
       "      <td>2017</td>\n",
       "      <td>Real Pool 3D - Poolians</td>\n",
       "      <td>NaN</td>\n",
       "    </tr>\n",
       "    <tr>\n",
       "      <th>3</th>\n",
       "      <td>2017</td>\n",
       "      <td>弹炸人2222</td>\n",
       "      <td>NaN</td>\n",
       "    </tr>\n",
       "    <tr>\n",
       "      <th>4</th>\n",
       "      <td>9999</td>\n",
       "      <td>Log Challenge</td>\n",
       "      <td>NaN</td>\n",
       "    </tr>\n",
       "    <tr>\n",
       "      <th>...</th>\n",
       "      <td>...</td>\n",
       "      <td>...</td>\n",
       "      <td>...</td>\n",
       "    </tr>\n",
       "    <tr>\n",
       "      <th>32130</th>\n",
       "      <td>2018</td>\n",
       "      <td>Colony On Mars</td>\n",
       "      <td>NaN</td>\n",
       "    </tr>\n",
       "    <tr>\n",
       "      <th>32131</th>\n",
       "      <td>2018</td>\n",
       "      <td>LOGistICAL: South Africa</td>\n",
       "      <td>NaN</td>\n",
       "    </tr>\n",
       "    <tr>\n",
       "      <th>32132</th>\n",
       "      <td>2018</td>\n",
       "      <td>Russian Roads</td>\n",
       "      <td>NaN</td>\n",
       "    </tr>\n",
       "    <tr>\n",
       "      <th>32133</th>\n",
       "      <td>2017</td>\n",
       "      <td>EXIT 2 - Directions</td>\n",
       "      <td>NaN</td>\n",
       "    </tr>\n",
       "    <tr>\n",
       "      <th>32134</th>\n",
       "      <td>9999</td>\n",
       "      <td>Maze Run VR</td>\n",
       "      <td>NaN</td>\n",
       "    </tr>\n",
       "  </tbody>\n",
       "</table>\n",
       "<p>32134 rows × 3 columns</p>\n",
       "</div>"
      ],
      "text/plain": [
       "       release_year                  app_name metascore\n",
       "0              2018       Lost Summoner Kitty       NaN\n",
       "1              2018                 Ironbound       NaN\n",
       "2              2017   Real Pool 3D - Poolians       NaN\n",
       "3              2017                   弹炸人2222       NaN\n",
       "4              9999             Log Challenge       NaN\n",
       "...             ...                       ...       ...\n",
       "32130          2018            Colony On Mars       NaN\n",
       "32131          2018  LOGistICAL: South Africa       NaN\n",
       "32132          2018             Russian Roads       NaN\n",
       "32133          2017       EXIT 2 - Directions       NaN\n",
       "32134          9999               Maze Run VR       NaN\n",
       "\n",
       "[32134 rows x 3 columns]"
      ]
     },
     "execution_count": 440,
     "metadata": {},
     "output_type": "execute_result"
    }
   ],
   "source": [
    "metascore"
   ]
  },
  {
   "cell_type": "code",
   "execution_count": 442,
   "metadata": {},
   "outputs": [
    {
     "data": {
      "text/plain": [
       "2677"
      ]
     },
     "execution_count": 442,
     "metadata": {},
     "output_type": "execute_result"
    }
   ],
   "source": [
    "metascore['metascore'].notna().sum()"
   ]
  },
  {
   "cell_type": "markdown",
   "metadata": {},
   "source": [
    "luego de ver cuantos valores Nan tengo en el Dataset y realmente los valores que tienen alguna informacion es muy bajo puedo crear una csv con todos los valores o podria crear una data set unicamente con los valores que tengan algun tipo de valor valido , pero como no conosco realmente los valore voy a dejarlo de esta manera para crear el dataset y al monmento de hacer la funcion relizo los respectivos filtros pra no perder datos que podrian ser relevantes "
   ]
  },
  {
   "cell_type": "code",
   "execution_count": 444,
   "metadata": {},
   "outputs": [],
   "source": [
    "metascore.to_csv('Data/metascore.csv', index=False)"
   ]
  },
  {
   "cell_type": "code",
   "execution_count": 445,
   "metadata": {},
   "outputs": [],
   "source": [
    "df_metascore = pd.read_csv('Data/metascore.csv')"
   ]
  },
  {
   "cell_type": "code",
   "execution_count": 448,
   "metadata": {},
   "outputs": [
    {
     "data": {
      "text/html": [
       "<div>\n",
       "<style scoped>\n",
       "    .dataframe tbody tr th:only-of-type {\n",
       "        vertical-align: middle;\n",
       "    }\n",
       "\n",
       "    .dataframe tbody tr th {\n",
       "        vertical-align: top;\n",
       "    }\n",
       "\n",
       "    .dataframe thead th {\n",
       "        text-align: right;\n",
       "    }\n",
       "</style>\n",
       "<table border=\"1\" class=\"dataframe\">\n",
       "  <thead>\n",
       "    <tr style=\"text-align: right;\">\n",
       "      <th></th>\n",
       "      <th>release_year</th>\n",
       "      <th>app_name</th>\n",
       "      <th>metascore</th>\n",
       "    </tr>\n",
       "  </thead>\n",
       "  <tbody>\n",
       "    <tr>\n",
       "      <th>0</th>\n",
       "      <td>2018</td>\n",
       "      <td>Lost Summoner Kitty</td>\n",
       "      <td>NaN</td>\n",
       "    </tr>\n",
       "    <tr>\n",
       "      <th>1</th>\n",
       "      <td>2018</td>\n",
       "      <td>Ironbound</td>\n",
       "      <td>NaN</td>\n",
       "    </tr>\n",
       "    <tr>\n",
       "      <th>2</th>\n",
       "      <td>2017</td>\n",
       "      <td>Real Pool 3D - Poolians</td>\n",
       "      <td>NaN</td>\n",
       "    </tr>\n",
       "    <tr>\n",
       "      <th>3</th>\n",
       "      <td>2017</td>\n",
       "      <td>弹炸人2222</td>\n",
       "      <td>NaN</td>\n",
       "    </tr>\n",
       "    <tr>\n",
       "      <th>4</th>\n",
       "      <td>9999</td>\n",
       "      <td>Log Challenge</td>\n",
       "      <td>NaN</td>\n",
       "    </tr>\n",
       "    <tr>\n",
       "      <th>...</th>\n",
       "      <td>...</td>\n",
       "      <td>...</td>\n",
       "      <td>...</td>\n",
       "    </tr>\n",
       "    <tr>\n",
       "      <th>32129</th>\n",
       "      <td>2018</td>\n",
       "      <td>Colony On Mars</td>\n",
       "      <td>NaN</td>\n",
       "    </tr>\n",
       "    <tr>\n",
       "      <th>32130</th>\n",
       "      <td>2018</td>\n",
       "      <td>LOGistICAL: South Africa</td>\n",
       "      <td>NaN</td>\n",
       "    </tr>\n",
       "    <tr>\n",
       "      <th>32131</th>\n",
       "      <td>2018</td>\n",
       "      <td>Russian Roads</td>\n",
       "      <td>NaN</td>\n",
       "    </tr>\n",
       "    <tr>\n",
       "      <th>32132</th>\n",
       "      <td>2017</td>\n",
       "      <td>EXIT 2 - Directions</td>\n",
       "      <td>NaN</td>\n",
       "    </tr>\n",
       "    <tr>\n",
       "      <th>32133</th>\n",
       "      <td>9999</td>\n",
       "      <td>Maze Run VR</td>\n",
       "      <td>NaN</td>\n",
       "    </tr>\n",
       "  </tbody>\n",
       "</table>\n",
       "<p>32134 rows × 3 columns</p>\n",
       "</div>"
      ],
      "text/plain": [
       "       release_year                  app_name  metascore\n",
       "0              2018       Lost Summoner Kitty        NaN\n",
       "1              2018                 Ironbound        NaN\n",
       "2              2017   Real Pool 3D - Poolians        NaN\n",
       "3              2017                   弹炸人2222        NaN\n",
       "4              9999             Log Challenge        NaN\n",
       "...             ...                       ...        ...\n",
       "32129          2018            Colony On Mars        NaN\n",
       "32130          2018  LOGistICAL: South Africa        NaN\n",
       "32131          2018             Russian Roads        NaN\n",
       "32132          2017       EXIT 2 - Directions        NaN\n",
       "32133          9999               Maze Run VR        NaN\n",
       "\n",
       "[32134 rows x 3 columns]"
      ]
     },
     "execution_count": 448,
     "metadata": {},
     "output_type": "execute_result"
    }
   ],
   "source": [
    "df_metascore"
   ]
  },
  {
   "cell_type": "code",
   "execution_count": 461,
   "metadata": {},
   "outputs": [
    {
     "data": {
      "text/html": [
       "<div>\n",
       "<style scoped>\n",
       "    .dataframe tbody tr th:only-of-type {\n",
       "        vertical-align: middle;\n",
       "    }\n",
       "\n",
       "    .dataframe tbody tr th {\n",
       "        vertical-align: top;\n",
       "    }\n",
       "\n",
       "    .dataframe thead th {\n",
       "        text-align: right;\n",
       "    }\n",
       "</style>\n",
       "<table border=\"1\" class=\"dataframe\">\n",
       "  <thead>\n",
       "    <tr style=\"text-align: right;\">\n",
       "      <th></th>\n",
       "      <th>release_year</th>\n",
       "      <th>app_name</th>\n",
       "      <th>metascore</th>\n",
       "    </tr>\n",
       "  </thead>\n",
       "  <tbody>\n",
       "    <tr>\n",
       "      <th>28</th>\n",
       "      <td>1998</td>\n",
       "      <td>Half-Life</td>\n",
       "      <td>96.0</td>\n",
       "    </tr>\n",
       "    <tr>\n",
       "      <th>95</th>\n",
       "      <td>2007</td>\n",
       "      <td>BioShock™</td>\n",
       "      <td>96.0</td>\n",
       "    </tr>\n",
       "    <tr>\n",
       "      <th>26954</th>\n",
       "      <td>2015</td>\n",
       "      <td>Grand Theft Auto V</td>\n",
       "      <td>96.0</td>\n",
       "    </tr>\n",
       "    <tr>\n",
       "      <th>32015</th>\n",
       "      <td>2004</td>\n",
       "      <td>Half-Life 2</td>\n",
       "      <td>96.0</td>\n",
       "    </tr>\n",
       "    <tr>\n",
       "      <th>631</th>\n",
       "      <td>2011</td>\n",
       "      <td>Portal 2</td>\n",
       "      <td>95.0</td>\n",
       "    </tr>\n",
       "    <tr>\n",
       "      <th>92</th>\n",
       "      <td>2007</td>\n",
       "      <td>QUAKE</td>\n",
       "      <td>94.0</td>\n",
       "    </tr>\n",
       "    <tr>\n",
       "      <th>252</th>\n",
       "      <td>2007</td>\n",
       "      <td>The Elder Scrolls IV: Oblivion® Game of the Ye...</td>\n",
       "      <td>94.0</td>\n",
       "    </tr>\n",
       "    <tr>\n",
       "      <th>254</th>\n",
       "      <td>2009</td>\n",
       "      <td>The Elder Scrolls IV: Oblivion® Game of the Ye...</td>\n",
       "      <td>94.0</td>\n",
       "    </tr>\n",
       "    <tr>\n",
       "      <th>561</th>\n",
       "      <td>2003</td>\n",
       "      <td>Grand Theft Auto: Vice City</td>\n",
       "      <td>94.0</td>\n",
       "    </tr>\n",
       "    <tr>\n",
       "      <th>4629</th>\n",
       "      <td>2015</td>\n",
       "      <td>Divinity: Original Sin - Enhanced Edition</td>\n",
       "      <td>94.0</td>\n",
       "    </tr>\n",
       "  </tbody>\n",
       "</table>\n",
       "</div>"
      ],
      "text/plain": [
       "       release_year                                           app_name  \\\n",
       "28             1998                                          Half-Life   \n",
       "95             2007                                          BioShock™   \n",
       "26954          2015                                 Grand Theft Auto V   \n",
       "32015          2004                                        Half-Life 2   \n",
       "631            2011                                           Portal 2   \n",
       "92             2007                                              QUAKE   \n",
       "252            2007  The Elder Scrolls IV: Oblivion® Game of the Ye...   \n",
       "254            2009  The Elder Scrolls IV: Oblivion® Game of the Ye...   \n",
       "561            2003                        Grand Theft Auto: Vice City   \n",
       "4629           2015          Divinity: Original Sin - Enhanced Edition   \n",
       "\n",
       "       metascore  \n",
       "28          96.0  \n",
       "95          96.0  \n",
       "26954       96.0  \n",
       "32015       96.0  \n",
       "631         95.0  \n",
       "92          94.0  \n",
       "252         94.0  \n",
       "254         94.0  \n",
       "561         94.0  \n",
       "4629        94.0  "
      ]
     },
     "execution_count": 461,
     "metadata": {},
     "output_type": "execute_result"
    }
   ],
   "source": [
    "historico_mejor_metascore = df_metascore.nlargest(10, 'metascore')\n",
    "historico_mejor_metascore"
   ]
  },
  {
   "cell_type": "code",
   "execution_count": 483,
   "metadata": {},
   "outputs": [],
   "source": [
    "def funcion_metascore(year):\n",
    "    if year == 9999:\n",
    "        print (\"NO SE TIENE UN REGISTRO CLARO DE LA LISTA DE JUEGOS ,NI SU AÑO DE LANZAMIENTO \")\n",
    "\n",
    "    df_anio = df_metascore[df_metascore['release_year'] == year ]\n",
    "\n",
    "    if df_anio['metascore'].notna().any():\n",
    "        top_juegos = df_anio.nlargest(5, 'metascore')[['app_name', 'metascore']].to_dict('registros_records')\n",
    "\n",
    "        return {'Año': year,'registros_records': top_juegos}\n",
    "    else:\n",
    "        return {\"VALUE_ERROR\": \"NO EXISTEN REGISTROS DISPONIBLES PARA EL AÑO INGRESADO, INTENTE CON OTRA FECHA\"}\n",
    "    \n"
   ]
  },
  {
   "cell_type": "code",
   "execution_count": 486,
   "metadata": {},
   "outputs": [
    {
     "name": "stdout",
     "output_type": "stream",
     "text": [
      "NO SE TIENE UN REGISTRO CLARO DE LA LISTA DE JUEGOS ,NI SU AÑO DE LANZAMIENTO \n"
     ]
    },
    {
     "name": "stderr",
     "output_type": "stream",
     "text": [
      "C:\\Users\\mateo\\AppData\\Local\\Temp\\ipykernel_15668\\1640345666.py:8: FutureWarning: Using short name for 'orient' is deprecated. Only the options: ('dict', list, 'series', 'split', 'records', 'index') will be used in a future version. Use one of the above to silence this warning.\n",
      "  top_juegos = df_anio.nlargest(5, 'metascore')[['app_name', 'metascore']].to_dict('registros_records')\n"
     ]
    },
    {
     "data": {
      "text/plain": [
       "{'Año': 9999,\n",
       " 'registros_records': [{'app_name': 'Dota 2', 'metascore': 90.0},\n",
       "  {'app_name': 'Rez Infinite', 'metascore': 89.0},\n",
       "  {'app_name': 'Raw Data', 'metascore': 87.0},\n",
       "  {'app_name': 'The Gallery - Episode 2: Heart of the Emberstone',\n",
       "   'metascore': 86.0},\n",
       "  {'app_name': 'Rise of the Tomb Raider™', 'metascore': 86.0}]}"
      ]
     },
     "execution_count": 486,
     "metadata": {},
     "output_type": "execute_result"
    }
   ],
   "source": [
    "funcion_metascore(9999)"
   ]
  },
  {
   "cell_type": "markdown",
   "metadata": {},
   "source": [
    "en esta funcion en particular cuando me arroja la lista de los juegos y su diferente metascore quise tratar los valores de la columna 'release_year' de una manera diferente ya que durante de todo el ejercicio los valpors de la columna 'release_year' con un valor igual a '9999' fue una manera que inialmente decidi tratar los valores Nan pero ahora al momento de ingresar esta fecha en la funcion me sale un mensaje informativo de alerta que me dice que el metascore de esa fecha no necesariamente coicide con algun año en especifico  "
   ]
  }
 ],
 "metadata": {
  "kernelspec": {
   "display_name": "Python 3",
   "language": "python",
   "name": "python3"
  },
  "language_info": {
   "codemirror_mode": {
    "name": "ipython",
    "version": 3
   },
   "file_extension": ".py",
   "mimetype": "text/x-python",
   "name": "python",
   "nbconvert_exporter": "python",
   "pygments_lexer": "ipython3",
   "version": "3.11.4"
  },
  "orig_nbformat": 4
 },
 "nbformat": 4,
 "nbformat_minor": 2
}
